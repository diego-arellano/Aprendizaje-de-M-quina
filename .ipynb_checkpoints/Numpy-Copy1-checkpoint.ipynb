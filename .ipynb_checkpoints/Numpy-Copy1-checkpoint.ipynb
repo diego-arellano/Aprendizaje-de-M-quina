{
 "cells": [
  {
   "cell_type": "markdown",
   "id": "002dea82",
   "metadata": {},
   "source": [
    "# Numpy\n",
    "### Basics de Numpy"
   ]
  },
  {
   "cell_type": "code",
   "execution_count": 2,
   "id": "4ba589ea",
   "metadata": {},
   "outputs": [
    {
     "name": "stdout",
     "output_type": "stream",
     "text": [
      "[[ 0  1  2  3  4]\n",
      " [ 5  6  7  8  9]\n",
      " [10 11 12 13 14]]\n"
     ]
    }
   ],
   "source": [
    "import numpy as np \n",
    "a = np.arange(15).reshape(3,5) # Crear un arreglo de numpy con elementos del 0 al 14. Cambiar la forma a un arreglo de 3x5 \n",
    "print(a)"
   ]
  },
  {
   "cell_type": "code",
   "execution_count": 7,
   "id": "fa8c44bc",
   "metadata": {},
   "outputs": [
    {
     "name": "stdout",
     "output_type": "stream",
     "text": [
      "(3, 5)\n",
      "2\n",
      "int32\n",
      "4\n",
      "15\n"
     ]
    }
   ],
   "source": [
    "print(a.shape) \n",
    "print(a.ndim) # Número de dimensiones\n",
    "print(a.dtype)\n",
    "print(a.itemsize) # tamaño del elemento en el arreglo en bytes\n",
    "print(a.size)"
   ]
  },
  {
   "cell_type": "code",
   "execution_count": 8,
   "id": "0b6b59a4",
   "metadata": {},
   "outputs": [],
   "source": [
    "b = np.array([6,7,8]) # Crear un arreglo de numpy a partir de una lista de python\n",
    "c = np.array([[1,2],[3,4]], dtype=complex) # Crear un arreglo de numpy con números complejos\n",
    "ceros = np.zeros((3,4)) # Crear un arreglo de ceros de 3 x 4, tambien se puede usar np.ones((3,4)) \n",
    "d = np.arange(10,30,7) # Crear un arreglo de 1 dim, del 10 hasta el 30 con step 7 "
   ]
  },
  {
   "cell_type": "code",
   "execution_count": 9,
   "id": "132c3a2f",
   "metadata": {},
   "outputs": [
    {
     "name": "stdout",
     "output_type": "stream",
     "text": [
      "[0.         0.6981317  1.3962634  2.0943951  2.7925268  3.4906585\n",
      " 4.1887902  4.88692191 5.58505361 6.28318531]\n",
      "[ 0.00000000e+00  6.42787610e-01  9.84807753e-01  8.66025404e-01\n",
      "  3.42020143e-01 -3.42020143e-01 -8.66025404e-01 -9.84807753e-01\n",
      " -6.42787610e-01 -2.44929360e-16]\n"
     ]
    }
   ],
   "source": [
    "e = np.linspace(0,2,9) # Espacio linear. Del 0 al 2, crear un arreglo con espacio uniforme con 9 elementos\n",
    "x = np.linspace(0, 2*np.pi, 10)\n",
    "print(x)\n",
    "f = np.sin(x)\n",
    "print(f)"
   ]
  },
  {
   "cell_type": "code",
   "execution_count": 10,
   "id": "9f5d6259",
   "metadata": {},
   "outputs": [],
   "source": [
    "c = np.arange(24).reshape(2,3,4)\n",
    "c = c.reshape(3,2,4) # reshape regresa un nuevo arreglo, los cambios no son in-place\n",
    "c = c.reshape(3,-1,4) # -1 funciona como comodin, para que la matriz pueda tener todos los datos\n",
    "c = c.reshape(-1) # Crea una matriz lineal \n",
    "c = c.reshape(1,-1) # Arreglo con dos dimensiones, aunque solo tiene un renglón \n",
    "c = c.reshape(3,-1) # La forma sería (3,8) "
   ]
  },
  {
   "cell_type": "code",
   "execution_count": null,
   "id": "48a2d786",
   "metadata": {},
   "outputs": [],
   "source": [
    "d = np.zeros((2,2))\n",
    "e = d\n",
    "d[0,0] = 2\n",
    "print(d)\n",
    "print(e) # Es por referencia. Si cambiamos d, cambiamos e. Las listas en python funcionan igual. "
   ]
  },
  {
   "cell_type": "markdown",
   "id": "0cd86f96",
   "metadata": {},
   "source": [
    "## Ejemplos del prof\n",
    "Broadcasting -> virtualmente propagar un arreglo las veces necesarias para poder comparar "
   ]
  },
  {
   "cell_type": "code",
   "execution_count": 11,
   "id": "d892c0b7",
   "metadata": {},
   "outputs": [],
   "source": [
    "a = np.array([1,2,3,4]).reshape(1,-1) \n",
    "a = np.array([1,3,6]).reshape(-1,1)\n",
    "''' \n",
    "Broadcasting\n",
    "\n",
    "a = [[1,2,3,4],\n",
    "    [1,2,3,4],\n",
    "    [1,2,3,4]]\n",
    "b = [[1,1,1,1],\n",
    "    [3,3,3,3],\n",
    "    [6,6,6,6]]\n",
    "'''\n",
    "# Ocurre broadcasting.\n",
    "# a virtualmente se convierte en un arreglo 3 x 4 y b en 3 x 4 para poder comparar los elementos.\n",
    "# Las operaciones se hacen elemento a elemento.\n",
    "c = a==b\n",
    "d = a*b \n",
    "e = a+b\n",
    "f = a>b"
   ]
  },
  {
   "cell_type": "code",
   "execution_count": 12,
   "id": "07db7fb1",
   "metadata": {},
   "outputs": [
    {
     "name": "stdout",
     "output_type": "stream",
     "text": [
      "[0.5  0.75]\n"
     ]
    }
   ],
   "source": [
    "def simple_pred(df, theta): \n",
    "    ftr = df.reshape(1,-1)\n",
    "    pred = ftr >= theta\n",
    "    return pred\n",
    "\n",
    "def simple_acc(ftr, outcome, theta): \n",
    "    pred = simple_pred(ftr, theta)\n",
    "    lbl = outcome.reshape(1,-1)\n",
    "    cmp = pred == lbl\n",
    "    acc = cmp.mean(axis=1) # mean within each row (over columns)\n",
    "    return acc\n",
    "\n",
    "cc = simple_acc(np.array([150.,100.,110.,125.]).reshape(1,-1), np.array([True, True,False,False]).reshape(1,-1),np.array([120.,130.]).reshape(-1,1))\n",
    "print(cc)"
   ]
  },
  {
   "cell_type": "code",
   "execution_count": 20,
   "id": "36d6902f",
   "metadata": {},
   "outputs": [
    {
     "name": "stdout",
     "output_type": "stream",
     "text": [
      "[[ 1.  3.  5.]\n",
      " [ 4.  7. 10.]]\n",
      "[[3. ]\n",
      " [0.5]\n",
      " [2. ]\n",
      " [5. ]]\n"
     ]
    },
    {
     "ename": "ValueError",
     "evalue": "operands could not be broadcast together with shapes (2,3) (4,1) ",
     "output_type": "error",
     "traceback": [
      "\u001b[1;31m---------------------------------------------------------------------------\u001b[0m",
      "\u001b[1;31mValueError\u001b[0m                                Traceback (most recent call last)",
      "\u001b[1;32m<ipython-input-20-3cc9e307a270>\u001b[0m in \u001b[0;36m<module>\u001b[1;34m\u001b[0m\n\u001b[0;32m      3\u001b[0m \u001b[0mb\u001b[0m \u001b[1;33m=\u001b[0m \u001b[0mnp\u001b[0m\u001b[1;33m.\u001b[0m\u001b[0marray\u001b[0m\u001b[1;33m(\u001b[0m\u001b[1;33m[\u001b[0m\u001b[1;36m3.\u001b[0m\u001b[1;33m,\u001b[0m\u001b[1;36m0.5\u001b[0m\u001b[1;33m,\u001b[0m\u001b[1;36m2.\u001b[0m\u001b[1;33m,\u001b[0m \u001b[1;36m5.\u001b[0m\u001b[1;33m]\u001b[0m\u001b[1;33m)\u001b[0m\u001b[1;33m.\u001b[0m\u001b[0mreshape\u001b[0m\u001b[1;33m(\u001b[0m\u001b[1;33m(\u001b[0m\u001b[1;36m4\u001b[0m\u001b[1;33m,\u001b[0m\u001b[1;36m1\u001b[0m\u001b[1;33m)\u001b[0m\u001b[1;33m)\u001b[0m\u001b[1;33m\u001b[0m\u001b[1;33m\u001b[0m\u001b[0m\n\u001b[0;32m      4\u001b[0m \u001b[0mprint\u001b[0m\u001b[1;33m(\u001b[0m\u001b[0mb\u001b[0m\u001b[1;33m)\u001b[0m\u001b[1;33m\u001b[0m\u001b[1;33m\u001b[0m\u001b[0m\n\u001b[1;32m----> 5\u001b[1;33m \u001b[0mc\u001b[0m \u001b[1;33m=\u001b[0m \u001b[0ma\u001b[0m \u001b[1;33m*\u001b[0m \u001b[0mb\u001b[0m \u001b[1;31m# No se puede hacer broadcasting por las dimensiones\u001b[0m\u001b[1;33m\u001b[0m\u001b[1;33m\u001b[0m\u001b[0m\n\u001b[0m",
      "\u001b[1;31mValueError\u001b[0m: operands could not be broadcast together with shapes (2,3) (4,1) "
     ]
    }
   ],
   "source": [
    "a = np.array([1.,3.,5.,4.,7.,10.]).reshape((2,3))\n",
    "print(a)\n",
    "b = np.array([3.,0.5,2., 8.]).reshape((4,1))\n",
    "print(b)\n",
    "c = a * b # No se puede hacer broadcasting por las dimensiones. \n",
    "          # Tiene que poder propagar una dimensión completa sobre la otra."
   ]
  },
  {
   "cell_type": "markdown",
   "id": "0a99ff6c",
   "metadata": {},
   "source": [
    "argmax() -> regresa el índice del primer elemento max que se encuentra \n",
    "\n"
   ]
  }
 ],
 "metadata": {
  "kernelspec": {
   "display_name": "Python 3",
   "language": "python",
   "name": "python3"
  },
  "language_info": {
   "codemirror_mode": {
    "name": "ipython",
    "version": 3
   },
   "file_extension": ".py",
   "mimetype": "text/x-python",
   "name": "python",
   "nbconvert_exporter": "python",
   "pygments_lexer": "ipython3",
   "version": "3.8.8"
  }
 },
 "nbformat": 4,
 "nbformat_minor": 5
}
