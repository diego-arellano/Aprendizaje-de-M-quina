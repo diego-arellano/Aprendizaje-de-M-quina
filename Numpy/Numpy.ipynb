{
 "cells": [
  {
   "cell_type": "markdown",
   "metadata": {},
   "source": [
    "# * Prerequisites"
   ]
  },
  {
   "cell_type": "markdown",
   "metadata": {},
   "source": [
    "You should familiarize yourself with the `numpy.ndarray` class of python's `numpy` library.\n",
    "\n",
    "You should be able to answer the following questions before starting this assignment. Let's assume `a` is a numpy array.\n",
    "* What is an array's shape (e.g., what is the meaning of `a.shape`)?  \n",
    "* What is numpy's reshaping operation? How much computational over-head would it induce?  \n",
    "* What is numpy's transpose operation, and how it is different from reshaping? Does it cause computation overhead?\n",
    "* What is the meaning of the commands `a.reshape(-1, 1)` and `a.reshape(-1)`?\n",
    "* Would happens to the variable `a` after we call `b = a.reshape(-1)`? Does any of `a`'s attributes change?\n",
    "* How do assignments in python and numpy work in general?\n",
    "    * Does the `b=a` statement use copying by value? Or is it copying by reference?\n",
    "    * Is the answer to the previous question change depending on whether `a` is a numpy array or a scalar value?\n",
    "    \n",
    "You can answer all of these questions by\n",
    "\n",
    "    1. Reading numpy's documentation from https://numpy.org/doc/stable/.\n",
    "    2. Making trials using dummy variables."
   ]
  },
  {
   "cell_type": "markdown",
   "metadata": {},
   "source": [
    "# *Learning Objectives"
   ]
  },
  {
   "cell_type": "markdown",
   "metadata": {},
   "source": [
    "This assignment's main objective is for you to learn how to utilize matrix operations, and avoid manual calculations as much as possible. \n",
    "\n",
    "This objective will have the following benefits:\n",
    " 1. **Efficiency and Scalability**: Utilizing matrix operations will make your code way more efficient for two reasons:\n",
    " \n",
    "    1.1. **Single Processor Speed-Ups**: Using matrix operations can help your processor plan much better for cache placements, and data fetching. Most numerical computation libraries exploit features of efficient cache usage, SIMD features, etc. This can yield enormous speed-ups using the same computational resources.\n",
    "    \n",
    "    1.2. **Multi-Processor Speed-Ups**: Matrix operations are extremely parallelizable. This has a significant impact on hardware acceleration; you could have a parallelizable code without even knowing much about parallelization, as most numerical computation libraries try to automatically exploit as much CPU parallelization as appropriate. \n",
    "    \n",
    "       Furthermore, you could easily use GPU acceleration for the same matrix operations if necessary. On the contrary, it is impractical to convert a python code which was built from scratch using python's default data structures for GPU usage.\n",
    "       \n",
    "    1.3. **Spending Less Time Executing High-Level Language Commands and Out-sourcing the Heavy-lifting to Lower-Level Backends**: The high-level languages tend to have expensive commands, as they prioritize coding convinience over efficiency. However, utilizing matrix operations outsources most of the code's heavy-lifting to lower-level languages without the user even knowing about it. For instance, Numpy runs most operations on a pre-compiled C backend. This is also correct about other numerical evaluation libraries such as the automatic-differentiation libraries (e.g., Tensorflow, PyTorch).\n",
    "    \n",
    "    \n",
    " 2. **Portabiliy**: This will make your code smaller, more understandable, and therefore less prone to have bugs. "
   ]
  },
  {
   "cell_type": "markdown",
   "metadata": {},
   "source": [
    "# 0. Data"
   ]
  },
  {
   "cell_type": "markdown",
   "metadata": {},
   "source": [
    "## 0.1 Description"
   ]
  },
  {
   "cell_type": "markdown",
   "metadata": {},
   "source": [
    "The UC Irvine's Machine Learning Data Repository Department hosts a Kaggle Competition with famous collection of data on whether a patient has diabetes (the Pima Indians dataset), originally owned by the National Institute of Diabetes and Digestive and Kidney Diseases and donated by Vincent Sigillito. \n",
    "\n",
    "You can find this data at https://www.kaggle.com/uciml/pima-indians-diabetes-database/data. The Kaggle website offers valuable visualizations of the original data dimensions in its dashboard. It is quite insightful to take the time and make sense of the data using their dashboard before applying any method to the data."
   ]
  },
  {
   "cell_type": "markdown",
   "metadata": {},
   "source": [
    "## 0.2 Information Summary"
   ]
  },
  {
   "cell_type": "markdown",
   "metadata": {},
   "source": [
    "* **Input/Output**: This data has a set of attributes of patients, and a categorical variable telling whether the patient is diabetic or not. \n",
    "\n",
    "* **Missing Data**: For several attributes in this data set, a value of 0 may indicate a missing value of the variable.\n",
    "\n",
    "* **Final Goal**: We want to build a classifier that can predict whether a patient has diabetes or not. To do this, we will train multiple kinds of models, and will be handing the missing data with different approaches for each method (i.e., some methods will ignore their existence, while others may do something about the missing data)."
   ]
  },
  {
   "cell_type": "markdown",
   "metadata": {},
   "source": [
    "## 0.3 Loading"
   ]
  },
  {
   "cell_type": "code",
   "execution_count": 2,
   "metadata": {},
   "outputs": [],
   "source": [
    "%matplotlib inline\n",
    "%load_ext autoreload\n",
    "%autoreload 2\n",
    "\n",
    "import pandas as pd\n",
    "import numpy as np\n",
    "import seaborn as sns\n",
    "import matplotlib.pyplot as plt\n"
   ]
  },
  {
   "cell_type": "code",
   "execution_count": 3,
   "metadata": {},
   "outputs": [
    {
     "data": {
      "text/html": [
       "<div>\n",
       "<style scoped>\n",
       "    .dataframe tbody tr th:only-of-type {\n",
       "        vertical-align: middle;\n",
       "    }\n",
       "\n",
       "    .dataframe tbody tr th {\n",
       "        vertical-align: top;\n",
       "    }\n",
       "\n",
       "    .dataframe thead th {\n",
       "        text-align: right;\n",
       "    }\n",
       "</style>\n",
       "<table border=\"1\" class=\"dataframe\">\n",
       "  <thead>\n",
       "    <tr style=\"text-align: right;\">\n",
       "      <th></th>\n",
       "      <th>Pregnancies</th>\n",
       "      <th>Glucose</th>\n",
       "      <th>BloodPressure</th>\n",
       "      <th>SkinThickness</th>\n",
       "      <th>Insulin</th>\n",
       "      <th>BMI</th>\n",
       "      <th>DiabetesPedigreeFunction</th>\n",
       "      <th>Age</th>\n",
       "      <th>Outcome</th>\n",
       "    </tr>\n",
       "  </thead>\n",
       "  <tbody>\n",
       "    <tr>\n",
       "      <th>0</th>\n",
       "      <td>6</td>\n",
       "      <td>148</td>\n",
       "      <td>72</td>\n",
       "      <td>35</td>\n",
       "      <td>0</td>\n",
       "      <td>33.6</td>\n",
       "      <td>0.627</td>\n",
       "      <td>50</td>\n",
       "      <td>1</td>\n",
       "    </tr>\n",
       "    <tr>\n",
       "      <th>1</th>\n",
       "      <td>1</td>\n",
       "      <td>85</td>\n",
       "      <td>66</td>\n",
       "      <td>29</td>\n",
       "      <td>0</td>\n",
       "      <td>26.6</td>\n",
       "      <td>0.351</td>\n",
       "      <td>31</td>\n",
       "      <td>0</td>\n",
       "    </tr>\n",
       "    <tr>\n",
       "      <th>2</th>\n",
       "      <td>8</td>\n",
       "      <td>183</td>\n",
       "      <td>64</td>\n",
       "      <td>0</td>\n",
       "      <td>0</td>\n",
       "      <td>23.3</td>\n",
       "      <td>0.672</td>\n",
       "      <td>32</td>\n",
       "      <td>1</td>\n",
       "    </tr>\n",
       "    <tr>\n",
       "      <th>3</th>\n",
       "      <td>1</td>\n",
       "      <td>89</td>\n",
       "      <td>66</td>\n",
       "      <td>23</td>\n",
       "      <td>94</td>\n",
       "      <td>28.1</td>\n",
       "      <td>0.167</td>\n",
       "      <td>21</td>\n",
       "      <td>0</td>\n",
       "    </tr>\n",
       "    <tr>\n",
       "      <th>4</th>\n",
       "      <td>0</td>\n",
       "      <td>137</td>\n",
       "      <td>40</td>\n",
       "      <td>35</td>\n",
       "      <td>168</td>\n",
       "      <td>43.1</td>\n",
       "      <td>2.288</td>\n",
       "      <td>33</td>\n",
       "      <td>1</td>\n",
       "    </tr>\n",
       "  </tbody>\n",
       "</table>\n",
       "</div>"
      ],
      "text/plain": [
       "   Pregnancies  Glucose  BloodPressure  SkinThickness  Insulin   BMI  \\\n",
       "0            6      148             72             35        0  33.6   \n",
       "1            1       85             66             29        0  26.6   \n",
       "2            8      183             64              0        0  23.3   \n",
       "3            1       89             66             23       94  28.1   \n",
       "4            0      137             40             35      168  43.1   \n",
       "\n",
       "   DiabetesPedigreeFunction  Age  Outcome  \n",
       "0                     0.627   50        1  \n",
       "1                     0.351   31        0  \n",
       "2                     0.672   32        1  \n",
       "3                     0.167   21        0  \n",
       "4                     2.288   33        1  "
      ]
     },
     "execution_count": 3,
     "metadata": {},
     "output_type": "execute_result"
    }
   ],
   "source": [
    "df = pd.read_csv('diabetes.csv')\n",
    "df.head()"
   ]
  },
  {
   "cell_type": "markdown",
   "metadata": {},
   "source": [
    "# 1. Implementing the Simplest Classifier Ever!"
   ]
  },
  {
   "cell_type": "markdown",
   "metadata": {},
   "source": [
    "If you look above there is a \"Glucose\" level variable in the data. Roughly speaking, a healthy person should never have blood Glucose levels of more than 140mg/liter, since a healthy pancreas should be able to control the glucose level by injecting proper amounts of insulin. Physicians use this fact to design the following simple diabetes diagnosis test, which is called the \"Oral glucose tolerance test\".\n",
    "\n",
    "* Feed the patient an extremely large amount of fast-acting sugar extract.\n",
    "* Test the blood glucose level after a couple of minutes.\n",
    "* If the patient's blood glucose level was less than the 140 mg/liter threshold, then the patient is normal.\n",
    "* If the patient's blood glucose level was in the 140-199 mg/liter range, then the patient is pre-diabetic.\n",
    "* If the patient's blood glucose level was more than 200 mg/liter, then the patient is diabetic.\n",
    "\n",
    "Of course the thresholds are up for debate and research, and this test is not 100% accurate; there are always exceptions and extreme cases. That's why there are many diabetes test types, and we're trying to also build our classifiers which hopefully should be more accurate than this simplistic test. However, this test provides a very simple and memorable way of diabetes assesment and diagnosis.\n",
    "\n",
    "You can read about these tests at https://www.mayoclinic.org/diseases-conditions/diabetes/diagnosis-treatment/drc-20371451#:~:text=If%20it's%20126%20mg%2FdL,for%20the%20next%20two%20hours.."
   ]
  },
  {
   "cell_type": "markdown",
   "metadata": {},
   "source": [
    "Let's try and do our own investigation into how accurate this simplistic test can be. This can serve as a baseline for later comparison."
   ]
  },
  {
   "cell_type": "markdown",
   "metadata": {},
   "source": [
    "# <span style=\"color:blue\">Task 1</span>"
   ]
  },
  {
   "cell_type": "markdown",
   "metadata": {},
   "source": [
    "Write a function ```simple_pred_vec``` that takes a 1-d array of glucose levels $\\mathbf{g}$ and a threshold $\\theta$ as input, and applies the following prediction rule for patient $i$:\n",
    "* Predict 1 (i.e., the patient is diabletic) if the patients glucose level $g_i$ is equal or larger than the threshold (i.e. if $g_i\\geq \\theta$).\n",
    "* Otherwise predict 0 (i.e., the patient is non-diabetic).\n",
    "\n",
    "For this task, the input is a 1-d numpy array $g$ with a shape of $(N,)$ and a scalar value $\\theta$ (where N is the number of patients). Write your function in a way that the output would have exactly the same shape as the $g$ input including the dummy dimension of 1. The output data type should be boolean.\n",
    "\n",
    "**Note**: You do not need to use any reshaping for this task. In other words, do not reshape the $\\mathbf{g}$ input and do not try to force an $(N,)$ shape on the output array.\n",
    "\n",
    "**Note**: There is no necessity of using any for loops in this task. In fact, iterating over the input manually would be an extremely bad itea; it is both inefficient, and has poor coding portability to various shapes. On the other hand, there is a much better one-liner alternative that out-sources all these required comparisons to be done by Numpy, and is even faster."
   ]
  },
  {
   "cell_type": "code",
   "execution_count": 4,
   "metadata": {
    "nbgrader": {
     "grade": false,
     "grade_id": "cell-7cb28e6ded034a67",
     "locked": false,
     "schema_version": 3,
     "solution": true,
     "task": false
    }
   },
   "outputs": [],
   "source": [
    "def simple_pred_vec(g, theta):\n",
    "    \n",
    "    ### BEGIN SOLUTION\n",
    "    out = theta <= g \n",
    "    ### END SOLUTION\n",
    "    \n",
    "    return out"
   ]
  },
  {
   "cell_type": "markdown",
   "metadata": {},
   "source": [
    "# <span style=\"color:blue\">Task 2</span>"
   ]
  },
  {
   "cell_type": "markdown",
   "metadata": {},
   "source": [
    "Using the ```simple_pred_vec``` function that you previously wrote, write a new function ```simple_pred``` function that takes a pandas dataframe ```df``` and threshold ```theta``` as input, and produces a prediction numpy array `pred`.\n",
    "\n",
    "For this specific task, the `pred` variable will mostly take a shape of $(1, N)$. However, do not force this shape on the `pred` variable by reshaping it to have an exact shape of $(1, N)$; forcing such a shape on the `pred` variable may cause issues when using this function in later tasks.\n",
    "\n",
    "The dataframe ```df``` has a column ```Glucose``` which indicates the blood glucose levels, and a column ```Outcome``` which indicates whether the patient is diabetic or not. You should extract the `Glucose` column from the dataframe and use it for thresholding and prediction.\n",
    "\n",
    "* **Hint**: If you like to have the column ```'des_col'``` of a pandas dataframe ```df``` as a numpy array, then ```df['des_col'].values``` may be helpful.\n",
    "\n",
    "* **Important Note**: The `df['des_col'].values` expression returns a numpy array that is one-dimensional (i.e., has a shape of $(N,)$). In order to maintain portability when possibly utilizing this function in later tasks, it is advised to reshape this `df['des_col'].values` array into having a shape of $(1,N)$ before using it in the `simple_pred` function."
   ]
  },
  {
   "cell_type": "code",
   "execution_count": 5,
   "metadata": {
    "nbgrader": {
     "grade": false,
     "grade_id": "cell-eea8f98d442ad61b",
     "locked": false,
     "schema_version": 3,
     "solution": true,
     "task": false
    }
   },
   "outputs": [
    {
     "name": "stdout",
     "output_type": "stream",
     "text": [
      "[[148  85 183  89 137 116  78 115 197 125 110 168 139 189 166 100 118 107\n",
      "  103 115 126  99 196 119 143 125 147  97 145 117 109 158  88  92 122 103\n",
      "  138 102  90 111 180 133 106 171 159 180 146  71 103 105 103 101  88 176\n",
      "  150  73 187 100 146 105  84 133  44 141 114  99 109 109  95 146 100 139\n",
      "  126 129  79   0  62  95 131 112 113  74  83 101 137 110 106 100 136 107\n",
      "   80 123  81 134 142 144  92  71  93 122 163 151 125  81  85 126  96 144\n",
      "   83  95 171 155  89  76 160 146 124  78  97  99 162 111 107 132 113  88\n",
      "  120 118 117 105 173 122 170  84  96 125 100  93 129 105 128 106 108 108\n",
      "  154 102  57 106 147  90 136 114 156 153 188 152  99 109  88 163 151 102\n",
      "  114 100 131 104 148 120 110 111 102 134  87  79  75 179  85 129 143 130\n",
      "   87 119   0  73 141 194 181 128 109 139 111 123 159 135  85 158 105 107\n",
      "  109 148 113 138 108  99 103 111 196 162  96 184  81 147 179 140 112 151\n",
      "  109 125  85 112 177 158 119 142 100  87 101 162 197 117 142 134  79 122\n",
      "   74 171 181 179 164 104  91  91 139 119 146 184 122 165 124 111 106 129\n",
      "   90  86  92 113 111 114 193 155 191 141  95 142 123  96 138 128 102 146\n",
      "  101 108 122  71 106 100 106 104 114 108 146 129 133 161 108 136 155 119\n",
      "   96 108  78 107 128 128 161 151 146 126 100 112 167 144  77 115 150 120\n",
      "  161 137 128 124  80 106 155 113 109 112  99 182 115 194 129 112 124 152\n",
      "  112 157 122 179 102 105 118  87 180 106  95 165 117 115 152 178 130  95\n",
      "    0 122  95 126 139 116  99   0  92 137  61  90  90 165 125 129  88 196\n",
      "  189 158 103 146 147  99 124 101  81 133 173 118  84 105 122 140  98  87\n",
      "  156  93 107 105 109  90 125 119 116 105 144 100 100 166 131 116 158 127\n",
      "   96 131  82 193  95 137 136  72 168 123 115 101 197 172 102 112 143 143\n",
      "  138 173  97 144  83 129 119  94 102 115 151 184  94 181 135  95  99  89\n",
      "   80 139  90 141 140 147  97 107 189  83 117 108 117 180 100  95 104 120\n",
      "   82 134  91 119 100 175 135  86 148 134 120  71  74  88 115 124  74  97\n",
      "  120 154 144 137 119 136 114 137 105 114 126 132 158 123  85  84 145 135\n",
      "  139 173  99 194  83  89  99 125  80 166 110  81 195 154 117  84   0  94\n",
      "   96  75 180 130  84 120  84 139  91  91  99 163 145 125  76 129  68 124\n",
      "  114 130 125  87  97 116 117 111 122 107  86  91  77 132 105  57 127 129\n",
      "  100 128  90  84  88 186 187 131 164 189 116  84 114  88  84 124  97 110\n",
      "  103  85 125 198  87  99  91  95  99  92 154 121  78 130 111  98 143 119\n",
      "  108 118 133 197 151 109 121 100 124  93 143 103 176  73 111 112 132  82\n",
      "  123 188  67  89 173 109 108  96 124 150 183 124 181  92 152 111 106 174\n",
      "  168 105 138 106 117  68 112 119 112  92 183  94 108  90 125 132 128  94\n",
      "  114 102 111 128  92 104 104  94  97 100 102 128 147  90 103 157 167 179\n",
      "  136 107  91 117 123 120 106 155 101 120 127  80 162 199 167 145 115 112\n",
      "  145 111  98 154 165  99  68 123  91 195 156  93 121 101  56 162  95 125\n",
      "  136 129 130 107 140 144 107 158 121 129  90 142 169  99 127 118 122 125\n",
      "  168 129 110  80 115 127 164  93 158 126 129 134 102 187 173  94 108  97\n",
      "   83 114 149 117 111 112 116 141 175  92 130 120 174 106 105  95 126  65\n",
      "   99 102 120 102 109 140 153 100 147  81 187 162 136 121 108 181 154 128\n",
      "  137 123 106 190  88 170  89 101 122 121 126  93]]\n",
      "[[ True False  True ...  True  True False]\n",
      " [False False  True ... False False False]]\n"
     ]
    }
   ],
   "source": [
    "def simple_pred(df, theta):\n",
    "    \n",
    "    ### BEGIN SOLUTION\n",
    "    feat = df['Glucose'].values.reshape(1,-1)\n",
    "    print(feat)\n",
    "    pred = simple_pred_vec(feat, theta)\n",
    "    ### END SOLUTION\n",
    "    \n",
    "    return pred\n",
    "\n",
    "print(simple_pred(df, np.array([100,180]).reshape(-1,1)))"
   ]
  },
  {
   "cell_type": "markdown",
   "metadata": {},
   "source": [
    "# <span style=\"color:blue\">Task 3</span>"
   ]
  },
  {
   "cell_type": "markdown",
   "metadata": {},
   "source": [
    "Using the ```simple_pred``` function that you previously wrote, write a new function ```simple_acc``` function that takes a pandas dataframe ```df``` and threshold ```theta``` as input, predicts the `Outcome` label, and returns the accuracy `acc` of the predictor.\n",
    "\n",
    "* In the most trivial case, `theta` can be scalar value (e.g., `theta=120`).\n",
    "\n",
    "* `theta` can also be a column array (i.e., `theta.shape == (k,1)` where `k` could be any integer). In this case, `acc` should be a vector of accuracy values with the same number of elements as `theta`.\n",
    "\n",
    "* `acc` should always be a 1-d numpy array (i.e., `acc.shape == (k,)`). Even if `theta` was a scalar value, `acc` should be a numpy array with the shape `(1,)`.\n",
    "\n",
    "* You can use the exact same way of array extraction (with all the caveats and considerations) from the previous task to extract the `Outcome` column from the `df` dataframe.\n",
    "\n",
    "\n",
    "**<span style=\"color:blue\">Limitation 1</span>** You should not be using any external libraries or functions for implementing this function. Only numpy functions should be used.\n",
    "\n",
    "**<span style=\"color:blue\">Limitation 2</span>** You cannot use any loops, such as ```for``` and ```while```, for implementing this function. You should learn how to implement such basic functionalities using numpy's matrix operations and functions."
   ]
  },
  {
   "cell_type": "markdown",
   "metadata": {},
   "source": [
    "* **Hint**:  Assume that you have a prediction vector ```pred``` and a label vector ```label``` whose shapes are ```(1,N)```. \n",
    "\n",
    "    * Let's have ```a= (pred==label)```. Think about what ```a``` means. \n",
    "    * Can you express the prediction accuracy as a numpy function of ```a```?\n",
    "\n",
    "* **Hint**: Run the following snippet for yourself, and try and make sense of how each of the variables c, d, e, and f were generated given that a and b had different shapes.\n",
    "\n",
    "```Var\n",
    "import numpy as np\n",
    "a = np.array([1,2,3,4]).reshape(1, -1) # \"a\" is a row vector\n",
    "b = np.array([1,3,6]).reshape(-1, 1) # \"b\" is a column vector\n",
    "c = (a == b)\n",
    "d = (a * b)\n",
    "e = (a + b)\n",
    "f = (a > b)\n",
    "print(f'c.shape is {c.shape}. d.shape is {d.shape}. e.shape is {e.shape}. f.shape is {f.shape}.')\n",
    "print('----------')\n",
    "print('c is ')\n",
    "print(c)\n",
    "print('----------')\n",
    "print('d is ')\n",
    "print(d)\n",
    "print('----------')\n",
    "print('e is ')\n",
    "print(e)\n",
    "print('----------')\n",
    "print('f is ')\n",
    "print(f)\n",
    "print('----------')\n",
    "```"
   ]
  },
  {
   "cell_type": "code",
   "execution_count": 148,
   "metadata": {
    "nbgrader": {
     "grade": false,
     "grade_id": "cell-0ac5c943c7b1c445",
     "locked": false,
     "schema_version": 3,
     "solution": true,
     "task": false
    }
   },
   "outputs": [
    {
     "name": "stdout",
     "output_type": "stream",
     "text": [
      "[0.56380208 0.74479167 0.7421875 ]\n"
     ]
    }
   ],
   "source": [
    "def simple_acc(df, theta):\n",
    "    \n",
    "    ### BEGIN SOLUTION\n",
    "    pred = simple_pred(df, theta)\n",
    "    label = df['Outcome'].values.reshape(1,-1)\n",
    "    compare = pred == label \n",
    "    acc = compare.mean(axis=1)    \n",
    "    ### END SOLUTION\n",
    "    return acc\n",
    "\n",
    "print(simple_acc(df, [[100],[148],[149]]))"
   ]
  },
  {
   "cell_type": "markdown",
   "metadata": {},
   "source": [
    "# <span style=\"color:blue\">Task 4</span>"
   ]
  },
  {
   "cell_type": "markdown",
   "metadata": {},
   "source": [
    "Write a function ```best_theta_loopy``` that takes a pandas dataframe ```df```, and uses a ```for``` loop and the function ```simple_acc``` to select the `theta` threshold in the interval $[75,200]$ yielding the highest accuracy.\n",
    "* Both 75 and 200 should be included in the test.\n",
    "* Only search for integer `theta` values.\n",
    "\n",
    "You should produce `best_theta` and `best_accuracy`, where both of them are scalar values.\n",
    "\n",
    "**Note**: In case multiple thresholds yielded the exact same highest accuracy, `best_theta` should be the smallest threshold among them. In other words, in case multiple optima for `theta` existed within the search range, the tie-breaking rule would be to pick the `theta` with the smallest value as `best_theta`."
   ]
  },
  {
   "cell_type": "code",
   "execution_count": 70,
   "metadata": {
    "nbgrader": {
     "grade": false,
     "grade_id": "cell-85607e4188934339",
     "locked": false,
     "schema_version": 3,
     "solution": true,
     "task": false
    }
   },
   "outputs": [],
   "source": [
    "def best_theta_loopy(df):\n",
    "    \n",
    "    ### BEGIN SOLUTION\n",
    "    best_theta = 75\n",
    "    best_accuracy = simple_acc(df, best_theta)\n",
    "    for i in range(76,200):\n",
    "        acc = simple_acc(df, i)\n",
    "        if best_accuracy < acc: \n",
    "            best_accuracy, best_theta = acc[0], i\n",
    "    ### END SOLUTION\n",
    "    \n",
    "    return np.array([best_theta, best_accuracy])\n"
   ]
  },
  {
   "cell_type": "markdown",
   "metadata": {},
   "source": [
    "Now that you have implemented this, let's see what the best threshold would be on the whole data set, and what the resulting accuracy would be.\n",
    "\n",
    "We did not perform train/test splits, so the accuracy may be inflated a bit..."
   ]
  },
  {
   "cell_type": "code",
   "execution_count": 71,
   "metadata": {},
   "outputs": [
    {
     "data": {
      "text/plain": [
       "(144.0, 0.75)"
      ]
     },
     "execution_count": 71,
     "metadata": {},
     "output_type": "execute_result"
    }
   ],
   "source": [
    "best_theta, best_acc = tuple(best_theta_loopy(df))\n",
    "best_theta, best_acc"
   ]
  },
  {
   "cell_type": "markdown",
   "metadata": {},
   "source": [
    "# <span style=\"color:blue\">Task 5</span>"
   ]
  },
  {
   "cell_type": "markdown",
   "metadata": {},
   "source": [
    "The use of a for loop in the ```best_theta_loopy``` function is unnecessary; you can re-write the function so that it has the same functionality without using any loops.\n",
    "\n",
    "Write a function ```best_theta``` that takes a pandas dataframe ```df```, and uses numpy operations to select the theta threshold in the range $[75,200]$ yielding the highest accuracy. You should again produce both `best_theta` and `best_accuracy` scalars.\n",
    "\n",
    "**Note**: In case multiple thresholds yielded the exact same highest accuracy, `best_theta` should be the smallest threshold among them. In other words, in case multiple optima for `theta` existed within the search range, the tie-breaking rule would be to pick the `theta` with the smallest value as `best_theta`.\n",
    "\n",
    "**<span style=\"color:blue\">Limitation 1</span>** You should not be using any external libraries or functions for implementing this function. Only numpy functions should be used.\n",
    "\n",
    "**<span style=\"color:blue\">Limitation 2</span>** You cannot use any loops, such as ```for``` and ```while```, for implementing this function. You should learn how to implement such basic functionalities using numpy's matrix operations and functions."
   ]
  },
  {
   "cell_type": "code",
   "execution_count": 76,
   "metadata": {
    "nbgrader": {
     "grade": false,
     "grade_id": "cell-50b7690895d845aa",
     "locked": false,
     "schema_version": 3,
     "solution": true,
     "task": false
    }
   },
   "outputs": [
    {
     "data": {
      "text/plain": [
       "array([144.  ,   0.75])"
      ]
     },
     "execution_count": 76,
     "metadata": {},
     "output_type": "execute_result"
    }
   ],
   "source": [
    "def best_theta(df):\n",
    "    \n",
    "    ### BEGIN SOLUTION\n",
    "    thetas = np.arange(75,200).reshape(-1,1)\n",
    "    acc = simple_acc(df, thetas)\n",
    "    best_theta, best_acc = np.argmax(acc) + 75, np.amax(acc)\n",
    "    ### END SOLUTION\n",
    "    \n",
    "    return np.array((best_theta, best_acc))\n",
    "\n",
    "best_theta(df)"
   ]
  },
  {
   "cell_type": "markdown",
   "metadata": {},
   "source": [
    "# <span style=\"color:blue\">Task 6</span>"
   ]
  },
  {
   "cell_type": "markdown",
   "metadata": {},
   "source": [
    "Using the ```simple_pred``` function that you previously wrote, write a new function ```simple_confusion``` function that takes a pandas dataframe ```df``` and threshold ```theta``` as input, and produces the confusion matrix $M$, where the rows correspond to the predicted values and the columns correspond to the actual values. \n",
    "\n",
    "* `theta` is a scalar value.\n",
    "* $M$ should have a shape of $(2,2)$ since there are two classes, and the entries should be integer values.\n",
    "\n",
    "**<span style=\"color:blue\">Limitation 1</span>** You should not be using any external libraries or functions for implementing this function. Only numpy functions should be used.\n",
    "\n",
    "**<span style=\"color:blue\">Limitation 2</span>** You cannot use any loops, such as ```for``` and ```while```, for implementing this function. You should learn how to implement such basic functionalities using numpy's matrix operations and functions."
   ]
  },
  {
   "cell_type": "markdown",
   "metadata": {},
   "source": [
    "* **Hint**: Assume that you have a prediction vector ```pred``` and a label vector ```label``` whose shapes are ```(1,N)```. \n",
    "    * Think about what the matrix ```a=(np.array([0,1]).reshape(2,1) == pred).astype(np.int)``` represents. What is its shape?\n",
    "    * Think about what the matrix ```b=(label.reshape(-1,1) == np.array([0, 1]).reshape(1,2)).astype(np.int)``` represents. What is its shape?\n",
    "    * Think about how you can derive the confusion matrix as a function of ```a``` and ```b```. What matrix operation can be helpful?"
   ]
  },
  {
   "cell_type": "code",
   "execution_count": 145,
   "metadata": {
    "nbgrader": {
     "grade": false,
     "grade_id": "cell-89e177294a010c0f",
     "locked": false,
     "schema_version": 3,
     "solution": true,
     "task": false
    }
   },
   "outputs": [
    {
     "data": {
      "text/plain": [
       "array([[450, 142],\n",
       "       [ 50, 126]])"
      ]
     },
     "execution_count": 145,
     "metadata": {},
     "output_type": "execute_result"
    }
   ],
   "source": [
    "def simple_confusion(df, theta):\n",
    "    \n",
    "    ### BEGIN SOLUTION\n",
    "    pred = simple_pred(df, theta)\n",
    "    label = df['Outcome'].values.reshape(1,-1)\n",
    "    a=(np.array([0,1]).reshape(2,1) == pred).astype(int)\n",
    "    b=(label.reshape(-1,1) == np.array([0, 1]).reshape(1,2)).astype(int)\n",
    "    #print(a)\n",
    "    #print(b)\n",
    "    M = np.dot(a,b)\n",
    "    ### END SOLUTION\n",
    "    return M\n",
    "\n",
    "simple_confusion(df, 144)"
   ]
  },
  {
   "cell_type": "markdown",
   "metadata": {},
   "source": [
    "Let's obtain the confusion matrix and plot the class conditional histograms."
   ]
  },
  {
   "cell_type": "code",
   "execution_count": 16,
   "metadata": {},
   "outputs": [
    {
     "data": {
      "text/plain": [
       "array([[450, 142],\n",
       "       [ 50, 126]])"
      ]
     },
     "execution_count": 16,
     "metadata": {},
     "output_type": "execute_result"
    }
   ],
   "source": [
    "cm = simple_confusion(df, theta=144)\n",
    "cm"
   ]
  },
  {
   "cell_type": "code",
   "execution_count": 17,
   "metadata": {},
   "outputs": [
    {
     "data": {
      "image/png": "[encoded data removed]",
      "text/plain": [
       "<Figure size 1080x432 with 1 Axes>"
      ]
     },
     "metadata": {
      "needs_background": "light"
     },
     "output_type": "display_data"
    }
   ],
   "source": [
    "fig, ax = plt.subplots(figsize=(10,4), dpi=108)\n",
    "sns.kdeplot(df['Glucose'][df['Outcome']==1].values, ax=ax, label='Diabetic Glucose')\n",
    "sns.kdeplot(df['Glucose'][df['Outcome']==0].values, ax=ax, label='Non-Diabetic Glucose')\n",
    "ax.set_xlabel('Blood Glucose Level (mg/liter)')\n",
    "ax.set_ylabel('Probabilstic Density')\n",
    "ax.set_title('Class-Conditional Histograms for the Glucose Predictor')\n",
    "_=ax.axvline(x=144, c='black', ls='--')"
   ]
  },
  {
   "cell_type": "markdown",
   "metadata": {},
   "source": [
    "One question to think about is \"why didn't the dashed black separator get placed right at the intersection of the Blue and Orange histograms?\"."
   ]
  },
  {
   "cell_type": "code",
   "execution_count": null,
   "metadata": {},
   "outputs": [],
   "source": [
    "Por que una gran proporción de no diabéticos serían clasificados como diabéticos "
   ]
  }
 ],
 "metadata": {
  "celltoolbar": "Create Assignment",
  "kernelspec": {
   "display_name": "Python 3",
   "language": "python",
   "name": "python3"
  },
  "language_info": {
   "codemirror_mode": {
    "name": "ipython",
    "version": 3
   },
   "file_extension": ".py",
   "mimetype": "text/x-python",
   "name": "python",
   "nbconvert_exporter": "python",
   "pygments_lexer": "ipython3",
   "version": "3.8.8"
  }
 },
 "nbformat": 4,
 "nbformat_minor": 4
}
